{
 "cells": [
  {
   "cell_type": "code",
   "execution_count": 17,
   "id": "b869387b",
   "metadata": {},
   "outputs": [
    {
     "name": "stdout",
     "output_type": "stream",
     "text": [
      "Adjustments:\n",
      "StockAdjustment(stock_code='AAPL', shares_to_adjust=-14)\n",
      "StockAdjustment(stock_code='TSLA', shares_to_adjust=-8)\n",
      "Remaining Cash: 7860\n"
     ]
    }
   ],
   "source": [
    "from dataclasses import dataclass\n",
    "import math\n",
    "\n",
    "@dataclass\n",
    "class StockPosition:\n",
    "    stock_code: str\n",
    "    shares: int  # Assuming this should be an integer.\n",
    "    current_price: float\n",
    "    current_percentage: float = None  # This will be calculated if not provided.\n",
    "    desired_percentage: float = None  # Must be provided before adjustment.\n",
    "\n",
    "@dataclass\n",
    "class StockAdjustment:\n",
    "    stock_code: str\n",
    "    shares_to_adjust: int  # Positive for buy, negative for sell.\n",
    "\n",
    "def calculate_total_market_value(portfolio):\n",
    "    \"\"\"Calculate the total market value of the portfolio.\"\"\"\n",
    "    return sum(position.shares * position.current_price for position in portfolio)\n",
    "\n",
    "def calculate_current_percentages(portfolio, total_market_value):\n",
    "    \"\"\"Calculate and set the current percentage for each stock position if not already set.\"\"\"\n",
    "    for position in portfolio:\n",
    "        if position.current_percentage is None:\n",
    "            position.current_percentage = (position.shares * position.current_price) / total_market_value\n",
    "\n",
    "def adjust_position(portfolio, portfolio_cash):\n",
    "    \"\"\"\n",
    "    Adjust the stock positions in the portfolio to match the desired allocation percentages.\n",
    "    \n",
    "    :param portfolio: List[StockPosition] - The current positions in the portfolio.\n",
    "    :param portfolio_cash: float - The available cash for adjustment.\n",
    "    :return: Tuple[List[StockAdjustment], float] - Adjustments needed and remaining cash after adjustments.\n",
    "    \"\"\"\n",
    "\n",
    "    # Calculate initial total market value including cash\n",
    "    total_market_value = calculate_total_market_value(portfolio) + portfolio_cash\n",
    "    \n",
    "    # Calculate and set current percentages where necessary\n",
    "    calculate_current_percentages(portfolio, total_market_value)\n",
    "    \n",
    "    adjustments = []\n",
    "    \n",
    "    # Perform adjustments calculations\n",
    "    for position in portfolio:\n",
    "        if position.desired_percentage is None:\n",
    "            raise ValueError(f\"No desired percentage set for {position.stock_code}\")\n",
    "        \n",
    "        desired_value = total_market_value * position.desired_percentage\n",
    "        current_value = position.shares * position.current_price\n",
    "        \n",
    "        value_difference = desired_value - current_value\n",
    "        \n",
    "        shares_to_adjust = math.floor(value_difference / position.current_price)\n",
    "        \n",
    "        adjustment_cost = shares_to_adjust * position.current_price\n",
    "        \n",
    "        # Update remaining cash after considering this adjustment.\n",
    "        portfolio_cash -= adjustment_cost\n",
    "        \n",
    "        adjustments.append(StockAdjustment(stock_code=position.stock_code, shares_to_adjust=shares_to_adjust))\n",
    "        \n",
    "    return adjustments, portfolio_cash\n",
    "\n",
    "# Example usage:\n",
    "portfolio = [\n",
    "   StockPosition(stock_code='AAPL', shares=133, current_price=150, desired_percentage=0.50),\n",
    "   StockPosition(stock_code='TSLA', shares=22, current_price=720, desired_percentage=0.30),\n",
    "   # More positions can be added here...\n",
    "]\n",
    "\n",
    "adjustments, remaining_cash= adjust_position(portfolio, 0)\n",
    "\n",
    "print(\"Adjustments:\")\n",
    "for adjustment in adjustments:\n",
    "    print(adjustment)\n",
    "print(\"Remaining Cash:\", remaining_cash)"
   ]
  },
  {
   "cell_type": "code",
   "execution_count": 24,
   "id": "bef833db",
   "metadata": {},
   "outputs": [],
   "source": [
    "portfolio = [\n",
    "    StockPosition(\"AAPL\", 9, 189.37, desired_percentage=0.12),\n",
    "    StockPosition(\"AMZN\", 30, 170.50, desired_percentage=0.18),\n",
    "    StockPosition(\"BRK.B\", 24, 397.47, desired_percentage=0.25),\n",
    "    StockPosition(\"IBIT\", 30, 25.54, desired_percentage=0.05),\n",
    "    StockPosition(\"ICLN\", 29, 14.29, desired_percentage=0.02),\n",
    "    StockPosition(\"MSFT\", 16, 414.17, desired_percentage=0.4),\n",
    "    StockPosition(\"TMF\", 16, 55.66, desired_percentage=0)\n",
    "]\n",
    "# calculate_current_percentages(portfolio, calculate_total_market_value(portfolio))\n",
    "# portfolio"
   ]
  },
  {
   "cell_type": "code",
   "execution_count": 25,
   "id": "decdd396",
   "metadata": {},
   "outputs": [
    {
     "name": "stdout",
     "output_type": "stream",
     "text": [
      "Adjustments:\n",
      "StockAdjustment(stock_code='AAPL', shares_to_adjust=8)\n",
      "StockAdjustment(stock_code='AMZN', shares_to_adjust=-1)\n",
      "StockAdjustment(stock_code='BRK.B', shares_to_adjust=-7)\n",
      "StockAdjustment(stock_code='IBIT', shares_to_adjust=24)\n",
      "StockAdjustment(stock_code='ICLN', shares_to_adjust=10)\n",
      "StockAdjustment(stock_code='MSFT', shares_to_adjust=11)\n",
      "StockAdjustment(stock_code='TMF', shares_to_adjust=-16)\n",
      "Remaining Cash: 16.659999999999854\n"
     ]
    }
   ],
   "source": [
    "adjustments, remaining_cash= adjust_position(portfolio, 3000)\n",
    "\n",
    "print(\"Adjustments:\")\n",
    "for adjustment in adjustments:\n",
    "    print(adjustment)\n",
    "print(\"Remaining Cash:\", remaining_cash)"
   ]
  }
 ],
 "metadata": {
  "kernelspec": {
   "display_name": "Python 3 (ipykernel)",
   "language": "python",
   "name": "python3"
  },
  "language_info": {
   "codemirror_mode": {
    "name": "ipython",
    "version": 3
   },
   "file_extension": ".py",
   "mimetype": "text/x-python",
   "name": "python",
   "nbconvert_exporter": "python",
   "pygments_lexer": "ipython3",
   "version": "3.11.6"
  }
 },
 "nbformat": 4,
 "nbformat_minor": 5
}
